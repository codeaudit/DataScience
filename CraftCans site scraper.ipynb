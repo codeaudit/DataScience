{
 "cells": [
  {
   "cell_type": "markdown",
   "metadata": {},
   "source": [
    "# CraftCans scraping the dataset into a CSV file"
   ]
  },
  {
   "cell_type": "markdown",
   "metadata": {},
   "source": [
    "Inspired by Jean-Nicholas Hould post (http://www.jeannicholashould.com/python-web-scraping-tutorial-for-craft-beers.html)"
   ]
  },
  {
   "cell_type": "markdown",
   "metadata": {},
   "source": [
    "In Data Science, there are two options, either the content is already cleaned and prepared to be\n",
    "used and analyzed or you are obliged to scrape it from websites. And this is when issues arise. \n",
    "When the website is scraping-friendly like the one we consider today, it is quite straightforward.\n",
    "When the website is cluttered with so many details, this is painful. I will consider this one in \n",
    "another notebook"
   ]
  },
  {
   "cell_type": "markdown",
   "metadata": {},
   "source": [
    "CraftCans database contains US beer cans with different data such as brewery, alcohol volume, size, \n",
    "to name a few. This exercise is a good starting point to understand how to scrape website for data, \n",
    "curate them and finally do some analysis"
   ]
  },
  {
   "cell_type": "markdown",
   "metadata": {},
   "source": [
    "The main task in scraping a website is to understand the page structure and how to access data. And,\n",
    "here, we are lucky, all the database is contained into a table, and every entries are between <tr>\n",
    "and </tr>. Finally, an entry contains 8 cells, each between <td> and </td>"
   ]
  },
  {
   "cell_type": "markdown",
   "metadata": {},
   "source": [
    "## Acquiring data"
   ]
  },
  {
   "cell_type": "markdown",
   "metadata": {},
   "source": [
    "First of all, doing some import"
   ]
  },
  {
   "cell_type": "markdown",
   "metadata": {},
   "source": [
    "Import urlopen to access the webpage"
   ]
  },
  {
   "cell_type": "code",
   "execution_count": 22,
   "metadata": {
    "collapsed": true
   },
   "outputs": [],
   "source": [
    "from urllib.request import urlopen"
   ]
  },
  {
   "cell_type": "markdown",
   "metadata": {},
   "source": [
    "Use BeautifulSoup to access the content of the webpage"
   ]
  },
  {
   "cell_type": "markdown",
   "metadata": {},
   "source": [
    "from bs4 import BeautifulSoup"
   ]
  },
  {
   "cell_type": "markdown",
   "metadata": {},
   "source": [
    "Use Pandas to transform data into DataFrame, it is then easier\n",
    "to modify the content and above all, to save the result in CSV (or in Excel)"
   ]
  },
  {
   "cell_type": "code",
   "execution_count": 3,
   "metadata": {
    "collapsed": true
   },
   "outputs": [],
   "source": [
    "import pandas as pd"
   ]
  },
  {
   "cell_type": "markdown",
   "metadata": {},
   "source": [
    "We first fetch the webpage based on the URL provided on the website"
   ]
  },
  {
   "cell_type": "code",
   "execution_count": 5,
   "metadata": {
    "collapsed": true
   },
   "outputs": [],
   "source": [
    "html = urlopen(\"http://craftcans.com/db.php?search=all&sort=beerid&ord=desc&view=text\")"
   ]
  },
  {
   "cell_type": "markdown",
   "metadata": {},
   "source": [
    "We transform the webpage into something usable with BeautifulSoup"
   ]
  },
  {
   "cell_type": "code",
   "execution_count": 6,
   "metadata": {
    "collapsed": true
   },
   "outputs": [],
   "source": [
    "html_soup = BeautifulSoup(html, 'html.parser')"
   ]
  },
  {
   "cell_type": "markdown",
   "metadata": {},
   "source": [
    "As mentioned before, all the entries are between <tr> and </tr>. Thanks to BeautifulSoup, we can\n",
    "gather all the tr entries in the webpage"
   ]
  },
  {
   "cell_type": "code",
   "execution_count": 7,
   "metadata": {
    "collapsed": true
   },
   "outputs": [],
   "source": [
    "rows = html_soup.findAll(\"tr\")"
   ]
  },
  {
   "cell_type": "markdown",
   "metadata": {},
   "source": [
    "Let us check how many entries we have"
   ]
  },
  {
   "cell_type": "code",
   "execution_count": 8,
   "metadata": {
    "collapsed": false
   },
   "outputs": [
    {
     "name": "stdout",
     "output_type": "stream",
     "text": [
      "2425\n"
     ]
    }
   ],
   "source": [
    "print(len(rows))"
   ]
  },
  {
   "cell_type": "markdown",
   "metadata": {},
   "source": [
    "But hey! It is written on the website there is 2162 entries (actually there are 2410 entries...). Did\n",
    "I make wrong? Well, no, do not forget the page contains more than the database"
   ]
  },
  {
   "cell_type": "markdown",
   "metadata": {},
   "source": [
    "Just remember, each entry has 8 cells, so we will use this piece of information to reduce the number \n",
    "of entries"
   ]
  },
  {
   "cell_type": "code",
   "execution_count": 10,
   "metadata": {
    "collapsed": false
   },
   "outputs": [
    {
     "name": "stdout",
     "output_type": "stream",
     "text": [
      "2411\n"
     ]
    }
   ],
   "source": [
    "nb = 0\n",
    "for row in rows:\n",
    "    cells = row.findAll(\"td\")\n",
    "    if (len(cells) == 8):\n",
    "        nb = nb  + 1\n",
    "print(nb)"
   ]
  },
  {
   "cell_type": "markdown",
   "metadata": {},
   "source": [
    "Mmmm, much better, we only 2411 entries whereas it is supposed to have 2410 entries. How can we remove\n",
    "this entry without listing all the entries? All the entries are not necessarily cleaned, sometimes there\n",
    "are NaN so we cannot assume we need to have a number to have an entry. Well, except for the beer id. \n",
    "Maybe, we can try on this one"
   ]
  },
  {
   "cell_type": "markdown",
   "metadata": {},
   "source": [
    "A beer id is composed of a number followed by a '.', so we could try if there is an entry that is not a\n",
    "number after removing the final letter"
   ]
  },
  {
   "cell_type": "code",
   "execution_count": 18,
   "metadata": {
    "collapsed": false
   },
   "outputs": [
    {
     "name": "stdout",
     "output_type": "stream",
     "text": [
      "Ouch!\n",
      "2410\n"
     ]
    }
   ],
   "source": [
    "nb = 0\n",
    "for row in rows:\n",
    "    cells = row.findAll(\"td\")\n",
    "    if (len(cells)==8):\n",
    "        id = cells[0].text\n",
    "        id = id[0:len(id)-1]\n",
    "        try:\n",
    "            id = int(id)\n",
    "            nb = nb + 1\n",
    "        except ValueError:\n",
    "            print(\"Ouch!\")\n",
    "print(nb)"
   ]
  },
  {
   "cell_type": "markdown",
   "metadata": {},
   "source": [
    "YES! 2410 entries and 1 error, it is what we are expecting. What the code does?"
   ]
  },
  {
   "cell_type": "markdown",
   "metadata": {},
   "source": [
    "Just counting the number of entries\n",
    "\n",
    "nb = 0"
   ]
  },
  {
   "cell_type": "markdown",
   "metadata": {},
   "source": [
    "Iterating on the different rows with tr, successively into row\n",
    "\n",
    "for row in rows:"
   ]
  },
  {
   "cell_type": "markdown",
   "metadata": {},
   "source": [
    "Find all the td elements into row and save them into cells\n",
    "\n",
    "cells = row.findAll(\"td\")"
   ]
  },
  {
   "cell_type": "markdown",
   "metadata": {},
   "source": [
    "Check whether we have 8 cells, meaning this is a beer entry\n",
    "\n",
    "if (len(cells)==8):"
   ]
  },
  {
   "cell_type": "markdown",
   "metadata": {},
   "source": [
    "Store the first cell into the variable id\n",
    "\n",
    "id=cells[0].text"
   ]
  },
  {
   "cell_type": "markdown",
   "metadata": {},
   "source": [
    "Remove the last character (1. -> 1)\n",
    "\n",
    "id = id[0:len(id)-1]"
   ]
  },
  {
   "cell_type": "markdown",
   "metadata": {},
   "source": [
    "Try to convert into an integer\n",
    "\n",
    "try:\n",
    "    id = int(id)\n",
    "    nb = nb + 1"
   ]
  },
  {
   "cell_type": "markdown",
   "metadata": {},
   "source": [
    "If this is not a number, we print out a message\n",
    "\n",
    "except ValueError:\n",
    "    print(\"ouch!\")"
   ]
  },
  {
   "cell_type": "markdown",
   "metadata": {},
   "source": [
    "Then print the number of entries\n",
    "\n",
    "print(nb)"
   ]
  },
  {
   "cell_type": "markdown",
   "metadata": {},
   "source": [
    "Now, it is time to store the data into a table named beers"
   ]
  },
  {
   "cell_type": "code",
   "execution_count": 19,
   "metadata": {
    "collapsed": false
   },
   "outputs": [
    {
     "name": "stdout",
     "output_type": "stream",
     "text": [
      "Ouch!\n"
     ]
    }
   ],
   "source": [
    "beers = []\n",
    "for row in rows:\n",
    "    cells = row.findAll(\"td\")\n",
    "    if (len(cells) == 8):\n",
    "        id = cells[0].text\n",
    "        id = id[0:len(id)-1]\n",
    "        try:\n",
    "            id = int(id)\n",
    "            beer_entry = {\n",
    "                \"id\": id,\n",
    "                \"name\": cells[1].text,\n",
    "                \"brewery_name\": cells[2].text,\n",
    "                \"brewery_location\": cells[3].text,\n",
    "                \"style\": cells[4].text,\n",
    "                \"size\": cells[5].text,\n",
    "                \"abv\": cells[6].text,    \n",
    "                \"ibu\": cells[7].text\n",
    "            }\n",
    "            beers.append(beer_entry)        \n",
    "        except ValueError:\n",
    "            print(\"Ouch!\")\n"
   ]
  },
  {
   "cell_type": "markdown",
   "metadata": {},
   "source": [
    "We check if the table has 2410 entries"
   ]
  },
  {
   "cell_type": "code",
   "execution_count": 20,
   "metadata": {
    "collapsed": false
   },
   "outputs": [
    {
     "name": "stdout",
     "output_type": "stream",
     "text": [
      "2410\n"
     ]
    }
   ],
   "source": [
    "print(len(beers))"
   ]
  },
  {
   "cell_type": "markdown",
   "metadata": {},
   "source": [
    "Cool, we have the current number of entries"
   ]
  },
  {
   "cell_type": "markdown",
   "metadata": {},
   "source": [
    "## Curating data"
   ]
  },
  {
   "cell_type": "markdown",
   "metadata": {},
   "source": [
    "Next step is to curate data to remove errors, typos, missing values. And who could help us with that? Yes, pandas"
   ]
  },
  {
   "cell_type": "code",
   "execution_count": 23,
   "metadata": {
    "collapsed": true
   },
   "outputs": [],
   "source": [
    "df = pd.DataFrame(beers)"
   ]
  },
  {
   "cell_type": "markdown",
   "metadata": {},
   "source": [
    "We print out the first lines to check"
   ]
  },
  {
   "cell_type": "code",
   "execution_count": 24,
   "metadata": {
    "collapsed": false
   },
   "outputs": [
    {
     "name": "stdout",
     "output_type": "stream",
     "text": [
      "    abv brewery_location        brewery_name ibu    id           name    size  \\\n",
      "0  4.5%  Minneapolis, MN  NorthGate Brewing   50  2692   Get Together  16 oz.   \n",
      "1  4.9%  Minneapolis, MN  NorthGate Brewing   26  2691  Maggie's Leap  16 oz.   \n",
      "2  4.8%  Minneapolis, MN  NorthGate Brewing   19  2690     Wall's End  16 oz.   \n",
      "3  6.0%  Minneapolis, MN  NorthGate Brewing   38  2689        Pumpion  16 oz.   \n",
      "4  6.0%  Minneapolis, MN  NorthGate Brewing   25  2688     Stronghold  16 oz.   \n",
      "\n",
      "                style  \n",
      "0        American IPA  \n",
      "1  Milk / Sweet Stout  \n",
      "2   English Brown Ale  \n",
      "3         Pumpkin Ale  \n",
      "4     American Porter  \n"
     ]
    }
   ],
   "source": [
    "print(df.head(5)) "
   ]
  },
  {
   "cell_type": "markdown",
   "metadata": {},
   "source": [
    "Everything seems to work. Great!"
   ]
  },
  {
   "cell_type": "markdown",
   "metadata": {},
   "source": [
    "First of all, we need to modify the size content. There is a value and a measure unit. A number should be\n",
    "enough if there are all provided with ounces. First of all, we check that:"
   ]
  },
  {
   "cell_type": "code",
   "execution_count": 25,
   "metadata": {
    "collapsed": false
   },
   "outputs": [
    {
     "name": "stdout",
     "output_type": "stream",
     "text": [
      "['12 OZ.', '32 oz.', '12 oz', '19.2 oz.', '24 oz. \"Silo Can\"', '16 oz. Alumi-Tek®', '16 oz.', '12 oz.', '12 ounce', '8.4 oz.', '16 oz. Alumi-Tek®\\t', '12 oz. Slimline', '12 & 16 oz.', '16.9 oz.', '12 oz. ', '16 oz', '24 oz.', '19.2']\n"
     ]
    }
   ],
   "source": [
    "units = df[\"size\"]\n",
    "units = list(set(units))\n",
    "print(units)"
   ]
  },
  {
   "cell_type": "markdown",
   "metadata": {},
   "source": [
    "Oh my God! There were worst than that since there are several different versions, from the absence of measure unit (19.2) \n",
    "to different oz (OZ., oz., oz, ounce)"
   ]
  },
  {
   "cell_type": "code",
   "execution_count": 27,
   "metadata": {
    "collapsed": false
   },
   "outputs": [
    {
     "name": "stdout",
     "output_type": "stream",
     "text": [
      "['32', '24', '12', 19.2, '8.4', '16.9', '19.2', '16']\n"
     ]
    }
   ],
   "source": [
    "unique_unit = []\n",
    "for unit in units:\n",
    "    try:\n",
    "        value = float(unit)\n",
    "        unique_unit.append(value)\n",
    "    except ValueError:\n",
    "        pos = unit.index(\" \")\n",
    "        unique_unit.append(unit[0:pos])\n",
    "print(list(set(unique_unit)))"
   ]
  },
  {
   "cell_type": "markdown",
   "metadata": {},
   "source": [
    "So, OK I am able to retrieve the numerical part of the size, so now, we create a function and use apply on DataFrame"
   ]
  },
  {
   "cell_type": "code",
   "execution_count": 31,
   "metadata": {
    "collapsed": true
   },
   "outputs": [],
   "source": [
    "def without_ounces(entry):\n",
    "    try:\n",
    "        return float(entry)\n",
    "    except ValueError:\n",
    "        pos = entry.index(\" \")\n",
    "        return float(entry[0:pos])"
   ]
  },
  {
   "cell_type": "code",
   "execution_count": 32,
   "metadata": {
    "collapsed": true
   },
   "outputs": [],
   "source": [
    "df[\"volume\"] = df[\"size\"].apply(without_ounces)"
   ]
  },
  {
   "cell_type": "markdown",
   "metadata": {},
   "source": [
    "Let us check the first lines"
   ]
  },
  {
   "cell_type": "code",
   "execution_count": 33,
   "metadata": {
    "collapsed": false
   },
   "outputs": [
    {
     "name": "stdout",
     "output_type": "stream",
     "text": [
      "    abv brewery_location        brewery_name ibu    id           name    size  \\\n",
      "0  4.5%  Minneapolis, MN  NorthGate Brewing   50  2692   Get Together  16 oz.   \n",
      "1  4.9%  Minneapolis, MN  NorthGate Brewing   26  2691  Maggie's Leap  16 oz.   \n",
      "2  4.8%  Minneapolis, MN  NorthGate Brewing   19  2690     Wall's End  16 oz.   \n",
      "3  6.0%  Minneapolis, MN  NorthGate Brewing   38  2689        Pumpion  16 oz.   \n",
      "4  6.0%  Minneapolis, MN  NorthGate Brewing   25  2688     Stronghold  16 oz.   \n",
      "\n",
      "                style  volume  \n",
      "0        American IPA    16.0  \n",
      "1  Milk / Sweet Stout    16.0  \n",
      "2   English Brown Ale    16.0  \n",
      "3         Pumpkin Ale    16.0  \n",
      "4     American Porter    16.0  \n"
     ]
    }
   ],
   "source": [
    "print(df.head(5))"
   ]
  },
  {
   "cell_type": "markdown",
   "metadata": {},
   "source": [
    "We remove the notion of ounces and this is now a float number, then easier to consider for analysis"
   ]
  },
  {
   "cell_type": "markdown",
   "metadata": {},
   "source": [
    "Time to remove the duplicating column in the DataFrame"
   ]
  },
  {
   "cell_type": "code",
   "execution_count": 34,
   "metadata": {
    "collapsed": true
   },
   "outputs": [],
   "source": [
    "del df[\"size\"]"
   ]
  },
  {
   "cell_type": "code",
   "execution_count": 35,
   "metadata": {
    "collapsed": false
   },
   "outputs": [
    {
     "name": "stdout",
     "output_type": "stream",
     "text": [
      "    abv brewery_location        brewery_name ibu    id           name  \\\n",
      "0  4.5%  Minneapolis, MN  NorthGate Brewing   50  2692   Get Together   \n",
      "1  4.9%  Minneapolis, MN  NorthGate Brewing   26  2691  Maggie's Leap   \n",
      "2  4.8%  Minneapolis, MN  NorthGate Brewing   19  2690     Wall's End   \n",
      "3  6.0%  Minneapolis, MN  NorthGate Brewing   38  2689        Pumpion   \n",
      "4  6.0%  Minneapolis, MN  NorthGate Brewing   25  2688     Stronghold   \n",
      "\n",
      "                style  volume  \n",
      "0        American IPA    16.0  \n",
      "1  Milk / Sweet Stout    16.0  \n",
      "2   English Brown Ale    16.0  \n",
      "3         Pumpkin Ale    16.0  \n",
      "4     American Porter    16.0  \n"
     ]
    }
   ],
   "source": [
    "print(df.head(5))"
   ]
  },
  {
   "cell_type": "markdown",
   "metadata": {},
   "source": [
    "Another source of problems is the % on abv column"
   ]
  },
  {
   "cell_type": "markdown",
   "metadata": {},
   "source": [
    "First, we check if % is used on every line"
   ]
  },
  {
   "cell_type": "code",
   "execution_count": 36,
   "metadata": {
    "collapsed": false
   },
   "outputs": [
    {
     "name": "stdout",
     "output_type": "stream",
     "text": [
      "2348\n"
     ]
    }
   ],
   "source": [
    "nb = 0\n",
    "abvs = df[\"abv\"]\n",
    "for abv in abvs:\n",
    "    if ('%' in abv):\n",
    "        nb = nb + 1\n",
    "print(nb)"
   ]
  },
  {
   "cell_type": "markdown",
   "metadata": {},
   "source": [
    "2348? Well, that means some have no '%'. One more reason to curate data"
   ]
  },
  {
   "cell_type": "markdown",
   "metadata": {},
   "source": [
    "We proceed like it was for size column"
   ]
  },
  {
   "cell_type": "code",
   "execution_count": 38,
   "metadata": {
    "collapsed": false
   },
   "outputs": [],
   "source": [
    "def without_percent(entry):\n",
    "    entry = entry.strip(\"%\")\n",
    "    try:\n",
    "        return float(entry)\n",
    "    except ValueError:\n",
    "        return None"
   ]
  },
  {
   "cell_type": "code",
   "execution_count": 40,
   "metadata": {
    "collapsed": false
   },
   "outputs": [],
   "source": [
    "df[\"abv\"] = df[\"abv\"].apply(without_percent)"
   ]
  },
  {
   "cell_type": "code",
   "execution_count": 41,
   "metadata": {
    "collapsed": false
   },
   "outputs": [
    {
     "name": "stdout",
     "output_type": "stream",
     "text": [
      "   abv brewery_location        brewery_name ibu    id           name  \\\n",
      "0  4.5  Minneapolis, MN  NorthGate Brewing   50  2692   Get Together   \n",
      "1  4.9  Minneapolis, MN  NorthGate Brewing   26  2691  Maggie's Leap   \n",
      "2  4.8  Minneapolis, MN  NorthGate Brewing   19  2690     Wall's End   \n",
      "3  6.0  Minneapolis, MN  NorthGate Brewing   38  2689        Pumpion   \n",
      "4  6.0  Minneapolis, MN  NorthGate Brewing   25  2688     Stronghold   \n",
      "\n",
      "                style  volume  \n",
      "0        American IPA    16.0  \n",
      "1  Milk / Sweet Stout    16.0  \n",
      "2   English Brown Ale    16.0  \n",
      "3         Pumpkin Ale    16.0  \n",
      "4     American Porter    16.0  \n"
     ]
    }
   ],
   "source": [
    "print(df.head(5))"
   ]
  },
  {
   "cell_type": "markdown",
   "metadata": {},
   "source": [
    "The last column that needs to be treated as number is IBU or International Bitterness Unit"
   ]
  },
  {
   "cell_type": "code",
   "execution_count": 42,
   "metadata": {
    "collapsed": true
   },
   "outputs": [],
   "source": [
    "def to_int(entry):\n",
    "    try:\n",
    "        return int(entry)\n",
    "    except ValueError:\n",
    "        return None"
   ]
  },
  {
   "cell_type": "code",
   "execution_count": 43,
   "metadata": {
    "collapsed": true
   },
   "outputs": [],
   "source": [
    "df[\"ibu\"] = df[\"ibu\"].apply(to_int)"
   ]
  },
  {
   "cell_type": "code",
   "execution_count": 44,
   "metadata": {
    "collapsed": false
   },
   "outputs": [
    {
     "name": "stdout",
     "output_type": "stream",
     "text": [
      "   abv brewery_location        brewery_name   ibu    id           name  \\\n",
      "0  4.5  Minneapolis, MN  NorthGate Brewing   50.0  2692   Get Together   \n",
      "1  4.9  Minneapolis, MN  NorthGate Brewing   26.0  2691  Maggie's Leap   \n",
      "2  4.8  Minneapolis, MN  NorthGate Brewing   19.0  2690     Wall's End   \n",
      "3  6.0  Minneapolis, MN  NorthGate Brewing   38.0  2689        Pumpion   \n",
      "4  6.0  Minneapolis, MN  NorthGate Brewing   25.0  2688     Stronghold   \n",
      "\n",
      "                style  volume  \n",
      "0        American IPA    16.0  \n",
      "1  Milk / Sweet Stout    16.0  \n",
      "2   English Brown Ale    16.0  \n",
      "3         Pumpkin Ale    16.0  \n",
      "4     American Porter    16.0  \n"
     ]
    }
   ],
   "source": [
    "print(df.head(5))"
   ]
  },
  {
   "cell_type": "markdown",
   "metadata": {},
   "source": [
    "We did well, so maybe it is time to save this DataFrame so as to analyse it later"
   ]
  },
  {
   "cell_type": "code",
   "execution_count": 45,
   "metadata": {
    "collapsed": true
   },
   "outputs": [],
   "source": [
    "df.to_csv(\"beers.csv\", sept='\\t')"
   ]
  },
  {
   "cell_type": "markdown",
   "metadata": {},
   "source": [
    "Voila! We have now time for some analysis"
   ]
  },
  {
   "cell_type": "markdown",
   "metadata": {},
   "source": [
    "## Analysing data"
   ]
  },
  {
   "cell_type": "markdown",
   "metadata": {},
   "source": [
    "Since this dataset has not a lot to reveal, we just provide some ideas on what to do"
   ]
  },
  {
   "cell_type": "markdown",
   "metadata": {},
   "source": [
    "First of all, we load the dataset and store it into a DataFrame"
   ]
  },
  {
   "cell_type": "code",
   "execution_count": 50,
   "metadata": {
    "collapsed": false
   },
   "outputs": [],
   "source": [
    "import pandas as pd\n",
    "craftcans = pd.read_csv(\"beers.csv\", sep=',', encoding=\"latin1\")"
   ]
  },
  {
   "cell_type": "markdown",
   "metadata": {},
   "source": [
    "We check the first lines"
   ]
  },
  {
   "cell_type": "code",
   "execution_count": 51,
   "metadata": {
    "collapsed": false
   },
   "outputs": [
    {
     "name": "stdout",
     "output_type": "stream",
     "text": [
      "   Unnamed: 0  abv brewery_location        brewery_name   ibu    id  \\\n",
      "0           0  4.5  Minneapolis, MN  NorthGate Brewing   50.0  2692   \n",
      "1           1  4.9  Minneapolis, MN  NorthGate Brewing   26.0  2691   \n",
      "2           2  4.8  Minneapolis, MN  NorthGate Brewing   19.0  2690   \n",
      "3           3  6.0  Minneapolis, MN  NorthGate Brewing   38.0  2689   \n",
      "4           4  6.0  Minneapolis, MN  NorthGate Brewing   25.0  2688   \n",
      "\n",
      "            name               style  volume  \n",
      "0   Get Together        American IPA    16.0  \n",
      "1  Maggie's Leap  Milk / Sweet Stout    16.0  \n",
      "2     Wall's End   English Brown Ale    16.0  \n",
      "3        Pumpion         Pumpkin Ale    16.0  \n",
      "4     Stronghold     American Porter    16.0  \n"
     ]
    }
   ],
   "source": [
    "print(craftcans.head(5))"
   ]
  },
  {
   "cell_type": "markdown",
   "metadata": {},
   "source": [
    "Oops, we have one column without name, we need to fix that"
   ]
  },
  {
   "cell_type": "code",
   "execution_count": 53,
   "metadata": {
    "collapsed": false
   },
   "outputs": [],
   "source": [
    "craftcans.columns = [\"id\", \"abv\", \"location\", \"name\", \"ibu\", \"beer_id\", \"name\", \"style\", \"volume\"]"
   ]
  },
  {
   "cell_type": "code",
   "execution_count": 54,
   "metadata": {
    "collapsed": false
   },
   "outputs": [
    {
     "name": "stdout",
     "output_type": "stream",
     "text": [
      "   id  abv         location                name   ibu  beer_id           name  \\\n",
      "0   0  4.5  Minneapolis, MN  NorthGate Brewing   50.0     2692   Get Together   \n",
      "1   1  4.9  Minneapolis, MN  NorthGate Brewing   26.0     2691  Maggie's Leap   \n",
      "2   2  4.8  Minneapolis, MN  NorthGate Brewing   19.0     2690     Wall's End   \n",
      "3   3  6.0  Minneapolis, MN  NorthGate Brewing   38.0     2689        Pumpion   \n",
      "4   4  6.0  Minneapolis, MN  NorthGate Brewing   25.0     2688     Stronghold   \n",
      "\n",
      "                style  volume  \n",
      "0        American IPA    16.0  \n",
      "1  Milk / Sweet Stout    16.0  \n",
      "2   English Brown Ale    16.0  \n",
      "3         Pumpkin Ale    16.0  \n",
      "4     American Porter    16.0  \n"
     ]
    }
   ],
   "source": [
    "print(craftcans.head(5))"
   ]
  },
  {
   "cell_type": "markdown",
   "metadata": {},
   "source": [
    "Let's play with the IBU and the different values"
   ]
  },
  {
   "cell_type": "code",
   "execution_count": 60,
   "metadata": {
    "collapsed": false
   },
   "outputs": [
    {
     "name": "stdout",
     "output_type": "stream",
     "text": [
      "4.0\n",
      "138.0\n"
     ]
    }
   ],
   "source": [
    "ibus = craftcans[\"ibu\"]\n",
    "print(min(ibus))\n",
    "print(max(ibus))"
   ]
  },
  {
   "cell_type": "markdown",
   "metadata": {},
   "source": [
    "Based on Wikipedia's article on [IBU](https://en.wikipedia.org/wiki/Beer_measurement#Bitterness), 4 is quite low and 138 \n",
    "is quite high"
   ]
  },
  {
   "cell_type": "markdown",
   "metadata": {},
   "source": [
    "I am sure, many, many other analysis could be done on this dataset but the objective was essentially to describe how\n",
    "to scrape the website to fetch data. \n",
    "\n",
    "Thanks to [Jean-Nicholas Hould](http://www.jeannicholashould.com/) for this interesting post on CraftCans that I borrow\n",
    "here and change a little."
   ]
  }
 ],
 "metadata": {
  "kernelspec": {
   "display_name": "Python 3",
   "language": "python",
   "name": "python3"
  },
  "language_info": {
   "codemirror_mode": {
    "name": "ipython",
    "version": 3
   },
   "file_extension": ".py",
   "mimetype": "text/x-python",
   "name": "python",
   "nbconvert_exporter": "python",
   "pygments_lexer": "ipython3",
   "version": "3.5.1"
  }
 },
 "nbformat": 4,
 "nbformat_minor": 0
}
